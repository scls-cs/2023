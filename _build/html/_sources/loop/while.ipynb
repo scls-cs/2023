{
 "cells": [
  {
   "cell_type": "markdown",
   "id": "816beeac",
   "metadata": {},
   "source": [
    "上一章我们学习了控制结构的第一种：分支结构。这一章我们会见到控制结构的第二种，也是最后一种结构：循环结构。不管程序有多么复杂，它都可以分解为顺序结构、分支结构和循环结构。\n",
    "\n",
    "也就是说学完这章后，你就可以开始写更复杂的程序了。\n",
    "\n",
    "# While Loop I #\n",
    "\n",
    "while循环的语法如下：\n",
    "```python\n",
    "while(condition):    #循环条件\n",
    "    statements       #循环体\n",
    "```\n",
    "这句话的意思是：只要循环条件为真，就一直反复执行循环体里语句。当括号里的条件为假时，则停止循环，继续执行while循环后面的语句。\n",
    "\n",
    "如果第一次循环条件就不成立，那么循环体里的语句就不会执行。\n",
    "\n",
    "while和if看起来比较相似，但if里的语句最多只会执行一次，而while可以执行多次。\n",
    "\n",
    "```python\n",
    "if(x < 3):\n",
    "    x = x+1   #只会执行一次\n",
    "\n",
    "while(x < 3):\n",
    "    x = x+1   #会执行多次\n",
    "```\n",
    "\n",
    "# 循环设计的四个步骤 #\n",
    "\n",
    "计数控制循环是最简单的循环方式。通过设置一个计数器(counter)作为循环变量(loop control variable)，可以决定循环的次数。\n",
    "\n",
    "下面以计数控制循环为例，来介绍循环设计的\"四部曲\"：\n",
    "\n",
    "1. 循环变量初始化：一般设置为0\n",
    "2. 设置循环条件：通常是包含循环变量的布尔表达式\n",
    "3. 编写循环体\n",
    "4. 更新循环变量"
   ]
  },
  {
   "cell_type": "code",
   "execution_count": 1,
   "id": "a30aaeb4",
   "metadata": {},
   "outputs": [
    {
     "name": "stdout",
     "output_type": "stream",
     "text": [
      "0\n",
      "1\n",
      "2\n",
      "3\n",
      "4\n",
      "5\n",
      "6\n",
      "7\n",
      "8\n",
      "9\n"
     ]
    }
   ],
   "source": [
    "count = 0                #1.循环变量初始化\n",
    "\n",
    "while(count < 10):       #2.循环条件\n",
    "    print(count)         #3.循环体\n",
    "    count = count + 1    #4.更新循环变量"
   ]
  },
  {
   "cell_type": "markdown",
   "id": "69f3f5d1",
   "metadata": {},
   "source": [
    "# 练习 #\n",
    "\n",
    "Ex1：下面程序打印的第一个和最后一个数字分别是多少？\n",
    "```python\n",
    "value = 10\n",
    "\n",
    "while(value < 15):\n",
    "    print(value)\n",
    "    value = value+1\n",
    "```\n",
    "\n",
    "Ex2：下面程序打印结果是什么？\n",
    "\n",
    "```python\n",
    "count = 5\n",
    "\n",
    "while(count < 50):\n",
    "  count = count * 2\n",
    "  count = count+1\n",
    "\n",
    "print(count)\n",
    "```\n",
    "\n",
    "Ex3：调用函数的结果是什么？\n",
    "\n",
    "```python\n",
    "def sum(n):\n",
    "  i = 1\n",
    "  t = 0\n",
    "  while(i<=n):\n",
    "    t=t+i\n",
    "    i=i+1\n",
    "  return t\n",
    "\n",
    "print(sum(10))\n",
    "```\n",
    "Ex4：编写函数star(n)，实现打印1~n的功能."
   ]
  },
  {
   "cell_type": "code",
   "execution_count": 2,
   "id": "c0c3d52d",
   "metadata": {},
   "outputs": [
    {
     "name": "stdout",
     "output_type": "stream",
     "text": [
      "10\n"
     ]
    }
   ],
   "source": [
    "def star(n):\n",
    "  print(n)\n",
    "\n",
    "star(10) # 1 2 3 4 ... 8 9 10(每行打印一个数）"
   ]
  },
  {
   "cell_type": "markdown",
   "id": "07f6a808",
   "metadata": {},
   "source": [
    "Ex5：用循环的方式编写函数f(a,b)，使函数可以返回a的b次方"
   ]
  },
  {
   "cell_type": "code",
   "execution_count": 3,
   "id": "99403f4c",
   "metadata": {},
   "outputs": [
    {
     "name": "stdout",
     "output_type": "stream",
     "text": [
      "1\n",
      "1\n"
     ]
    }
   ],
   "source": [
    "def f(a,b):\n",
    "  total = 1\n",
    "  #add your code here\n",
    "  \n",
    "  \n",
    "  \n",
    "  return total\n",
    "\n",
    "print(f(2,3))   #8\n",
    "print(f(3,4))   #81"
   ]
  },
  {
   "cell_type": "markdown",
   "id": "5c4bc952",
   "metadata": {},
   "source": [
    "## 课件 ##\n",
    "\n",
    "课件下载：{download}`Loops I <Loops.pptx>`"
   ]
  }
 ],
 "metadata": {
  "jupytext": {
   "formats": "md:myst",
   "text_representation": {
    "extension": ".md",
    "format_name": "myst"
   }
  },
  "kernelspec": {
   "display_name": "Python 3",
   "language": "python",
   "name": "python3"
  },
  "language_info": {
   "codemirror_mode": {
    "name": "ipython",
    "version": 3
   },
   "file_extension": ".py",
   "mimetype": "text/x-python",
   "name": "python",
   "nbconvert_exporter": "python",
   "pygments_lexer": "ipython3",
   "version": "3.9.2"
  },
  "rise": {
   "start_slideshow_at": "beginning"
  },
  "source_map": [
   14,
   52,
   58,
   99,
   104,
   109,
   120
  ]
 },
 "nbformat": 4,
 "nbformat_minor": 5
}