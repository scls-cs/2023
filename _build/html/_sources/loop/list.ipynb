{
 "cells": [
  {
   "cell_type": "markdown",
   "id": "bc6372d7",
   "metadata": {},
   "source": [
    "# 列表 #\n",
    "\n",
    "当需要存储、组织和处理大量数据时，数据结构就显得非常重要。例如，当你需要写一个交易算法来交易Bilibili的股票，你可能需要处理一周、一个月，甚至更长时间的价格数据，选择一个合适的数据结构来存储这些价格，可以让你的交易事半功倍。\n",
    "\n",
    "列表(list)是最典型的数据结构。在Python中，列表是一种可以通过索引/下标(index)访问的元素的集合。索引是一个数字值，表示元素在列表中的位置。\n",
    "\n",
    "列表是可变的，也就是说它们在创建后可以修改。\n",
    "\n",
    "## 创建列表 ##\n",
    "\n",
    "要创建一个列表，可以使用方括号 [] 并用逗号将列表中的元素隔开。例如：\n",
    "\n",
    "```python\n",
    "colors = ['red', 'green', 'blue']\n",
    "```\n",
    "\n",
    "要访问列表中的一个元素，可以在列表名称后面使用方括号，并指定元素的索引。在 Python 中，列表的索引从0开始，因此列表中的第一个元素的索引为 0，第二个元素的索引为 1，依此类推。例如，下面的代码访问了列表中的第一个和第三个元素：\n",
    "\n",
    "```python\n",
    "first_color = colors[0]\n",
    "third_color = colors[2]\n",
    "```\n",
    "\n",
    "你还可以修改列表元素："
   ]
  },
  {
   "cell_type": "code",
   "execution_count": null,
   "id": "51566227",
   "metadata": {},
   "outputs": [],
   "source": [
    "colors = ['red', 'green', 'blue']\n",
    "colors[1] = 'purple'\n",
    "print(colors)"
   ]
  },
  {
   "cell_type": "markdown",
   "id": "2e181429",
   "metadata": {},
   "source": [
    "## 列表方法 ##\n",
    "\n",
    "Python中列表还有许多其他有用的方法，可以使用这些方法来修改和处理列表中的元素。例如，可以使用append()在列表末尾插入新的元素，使用**insert()** 方法在列表中插入一个元素，使用 **remove()** 方法从列表中删除一个元素，使用 **sort()** 方法对列表中的元素进行排序，以及使用 **len()** 函数来获取列表中元素的数量。"
   ]
  },
  {
   "cell_type": "code",
   "execution_count": null,
   "id": "fdfe7b5a",
   "metadata": {},
   "outputs": [],
   "source": [
    "# Create an empty list\n",
    "my_list = []\n",
    "\n",
    "# Add an item to the list\n",
    "my_list.append('hello')\n",
    "\n",
    "# Insert an item at a specific index\n",
    "my_list.insert(1, 'world')\n",
    "\n",
    "# Remove an item from the list\n",
    "my_list.remove('hello')\n",
    "\n",
    "# Sort the items in the list\n",
    "my_list.sort()\n",
    "\n",
    "# Get the number of items in the list\n",
    "list_length = len(my_list)"
   ]
  },
  {
   "cell_type": "markdown",
   "id": "839fe0cf",
   "metadata": {},
   "source": [
    "## 作业 ##\n",
    "\n",
    "1. Write a function which use while loop that iterates over a list of numbers and prints each number on a new line."
   ]
  },
  {
   "cell_type": "code",
   "execution_count": null,
   "id": "d1004ca9",
   "metadata": {},
   "outputs": [],
   "source": [
    "def printAll(x):\n",
    "\t#your code\n",
    "\n",
    "\n",
    "l = [1,2,3,4,5,6]\n",
    "printAll(l) #should print each number on a new line"
   ]
  },
  {
   "cell_type": "markdown",
   "id": "202accee",
   "metadata": {},
   "source": [
    "2. Modify the while loop from the first question so that it only prints numbers that are even."
   ]
  },
  {
   "cell_type": "code",
   "execution_count": null,
   "id": "c7773058",
   "metadata": {},
   "outputs": [],
   "source": [
    "def printAllEven(x):\n",
    "\t#your code\n",
    "\n",
    "\n",
    "l = [1,2,3,4,5,6]\n",
    "printAll(l) #should print 2,4,6"
   ]
  },
  {
   "cell_type": "markdown",
   "id": "01bc422f",
   "metadata": {},
   "source": [
    "3. Write a function using while loop that adds up all the numbers in the list and prints the total at the end."
   ]
  },
  {
   "cell_type": "code",
   "execution_count": null,
   "id": "f2a31ef5",
   "metadata": {},
   "outputs": [],
   "source": [
    "def addAll(x):\n",
    "\t#your code\n",
    "\treturn 0\n",
    "\n",
    "\n",
    "l = [1,2,3,4,5,6]\n",
    "print(addAll(l)) #should get 21"
   ]
  },
  {
   "cell_type": "markdown",
   "id": "252b387a",
   "metadata": {},
   "source": [
    "4. Modify the while loop from the third question so that it only adds up numbers that are odd."
   ]
  },
  {
   "cell_type": "code",
   "execution_count": null,
   "id": "518e3d7a",
   "metadata": {},
   "outputs": [],
   "source": [
    "def addAll(x):\n",
    "\t#your code\n",
    "\treturn 0\n",
    "\n",
    "\n",
    "l = [1,2,3,4,5,6]\n",
    "print(addAll(l)) #should get 9"
   ]
  },
  {
   "cell_type": "markdown",
   "id": "163b480e",
   "metadata": {},
   "source": [
    "## 课件 ##\n",
    "\n",
    "课件下载：{download}`List & For Loop <For Loop.pptx>`"
   ]
  }
 ],
 "metadata": {
  "jupytext": {
   "formats": "md:myst",
   "text_representation": {
    "extension": ".md",
    "format_name": "myst"
   }
  },
  "kernelspec": {
   "display_name": "Python 3",
   "language": "python",
   "name": "python3"
  },
  "rise": {
   "start_slideshow_at": "beginning"
  },
  "source_map": [
   14,
   41,
   45,
   51,
   69,
   75,
   82,
   86,
   93,
   97,
   105,
   109,
   117
  ]
 },
 "nbformat": 4,
 "nbformat_minor": 5
}