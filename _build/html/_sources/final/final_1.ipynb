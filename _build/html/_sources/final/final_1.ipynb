{
 "cells": [
  {
   "cell_type": "markdown",
   "id": "fa652192",
   "metadata": {},
   "source": [
    "# 期末大作业I #\n",
    "\n",
    "## 任务一：描述图片 ##\n",
    "\n",
    "打开https://pixspy.com/，上传任意一张照片。鼠标在图片上移动，观察鼠标旁的数字，回答以下问题：\n",
    "\n",
    "![motor](motorcycle.png)\n",
    "\n",
    "1. 鼠标旁的五个数字分别代表图片的什么信息？\n",
    "2. 图片的分辨率是多少？\n",
    "3. 图片左上角的行下标和列下标分别是多少？\n",
    "4. 图片最右处的列下标是多少？\n",
    "5. 图片最底部的行下标是多少？\n",
    "6. 行下标是从左往右增大，还是从上到下增大？\n",
    "7. 用鼠标滚轮放大图片，直到看到一个个\"马赛克\"为止。它们其实是像素，当像素放大到一定程度，看起来就像是小色块。这叫做图像的像素化（pixelation）。\n",
    "\n",
    "## 任务二：输出图像信息 ##\n",
    "\n",
    "下面是一张海滩的图片，我们用以下代码来打印图片的信息：\n",
    "\n",
    "![beach](beach.jpeg)"
   ]
  },
  {
   "cell_type": "code",
   "execution_count": null,
   "id": "6ec924f6",
   "metadata": {},
   "outputs": [],
   "source": [
    "import cv2\n",
    "img = cv2.imread('beach.jpeg') \n",
    "\n",
    "totalCol= img.shape[1]  #image width\n",
    "totalRow= img.shape[0] #image height\n",
    "\n",
    "print(totalCol, totalRow) #print image width and height\n",
    "\n",
    "for i in range(4):\n",
    "  for j in range(4):\n",
    "    print(img[i,j])    #打印图片的[B,G,R]信息"
   ]
  },
  {
   "cell_type": "markdown",
   "id": "66323fa2",
   "metadata": {},
   "source": [
    "1. 这16个像素点在图片的哪个位置？\n",
    "2. 为什么这些像素点的值都比较小？\n",
    "\n",
    "OpenCV对图像是用**BGR**（不是RGB)的方式来进行编码的。每个像素值都是一个包含三个元素列表，分别对应Blue, Green和Red。所以你如果想要获得某个位置像素点的三原色值，你也可以通过列表下标的方式来得到，例如："
   ]
  },
  {
   "cell_type": "code",
   "execution_count": null,
   "id": "31b7772c",
   "metadata": {},
   "outputs": [],
   "source": [
    "import cv2\n",
    "img = cv2.imread('beach.jpeg') \n",
    "\n",
    "print(img[100,100,0])    #输出图片的[100,100]处的蓝色值\n",
    "print(img[100,100,1])    #输出图片的[100,100]处的绿色值\n",
    "print(img[100,100,2])    #输出图片的[100,100]处的红色值\n"
   ]
  },
  {
   "cell_type": "markdown",
   "id": "eb01516a",
   "metadata": {},
   "source": [
    "## 任务三：去除蓝色 ##\n",
    "\n",
    "即使一张图片由上百万个像素点组成，计算机仍然能够在你喝一口水的时间内，对它们全部进行处理。这个任务中你将要编写三个函数，来实现一些神奇的效果。\n",
    "\n",
    "如果将图片中的所有蓝色值全变成0，你会看到一副怎样的画面？你还会看到沙滩吗？\n",
    "\n",
    "运行下面程序之后，"
   ]
  },
  {
   "cell_type": "code",
   "execution_count": null,
   "id": "dae9f86b",
   "metadata": {},
   "outputs": [],
   "source": [
    "import cv2\n",
    "from IPython.display import Image\n",
    "\n",
    "def zeroBlue(img):\n",
    "  img_width = img.shape[1]  \n",
    "  img_height = img.shape[0] \n",
    "  for row in range(img_height):\n",
    "    for col in range(img_width):\n",
    "      img[row][col][0] = 0\n",
    "  return img\n",
    "\n",
    "img = cv2.imread('beach.jpeg')\n",
    "newImage = zeroBlue(img)\n",
    "cv2.imwrite(\"1.png\", newImage)\n",
    "Image(filename='1.png') "
   ]
  },
  {
   "cell_type": "markdown",
   "id": "1b28b7ea",
   "metadata": {},
   "source": [
    "其中程序第二行和最后一行是为了在课程网站中展示图片而添加，在PyCharm中你需要删除这两行。\n",
    "\n",
    "## 提交 ##\n",
    "\n",
    "下面四个任务需要自己完成并提交：\n",
    "\n",
    "1. 设计函数onlyBlue，使图片只保留蓝色，也就是将红色和绿色值全置为0。\n",
    "2. 设计函数negate，将图片像素值翻转。为了翻转图片，需要将红色值置为255-红色值，绿色值置为255-绿色值，蓝色值置为255-蓝色值。\n",
    "3. 设计函数grayscale，将图片变为灰度图，需要将像素点的三种颜色值均置为它们的平均值。\n",
    "4. [附加任务]设计fixUnderWater函数，使得海水中的鱼更容易被看到。\n",
    "\n",
    "海滩图片：{download}`Beach <beach.jpeg>`"
   ]
  }
 ],
 "metadata": {
  "jupytext": {
   "formats": "md:myst",
   "text_representation": {
    "extension": ".md",
    "format_name": "myst"
   }
  },
  "kernelspec": {
   "display_name": "Python 3",
   "language": "python",
   "name": "python3"
  },
  "rise": {
   "start_slideshow_at": "beginning"
  },
  "source_map": [
   14,
   38,
   50,
   56,
   64,
   74,
   90
  ]
 },
 "nbformat": 4,
 "nbformat_minor": 5
}