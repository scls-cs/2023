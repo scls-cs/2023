{
 "cells": [
  {
   "cell_type": "code",
   "execution_count": null,
   "id": "5e9ac67c",
   "metadata": {
    "lines_to_next_cell": 2
   },
   "outputs": [],
   "source": [
    "from PIL import Image\n",
    "import numpy as np\n",
    "import matplotlib.pyplot as plt\n",
    "\n",
    "def threshold(imageArray):\n",
    "    newArr = imageArray\n",
    "    numOfPixel = 0    #像素点个数\n",
    "    sum = 0           #像素点RGB平均值的和\n",
    "    for eachRow in imageArray:\n",
    "        for eachPix in eachRow:\n",
    "            avgNum = (eachPix[0]+eachPix[1]+eachPix[2])/3\n",
    "            numOfPixel = numOfPixel+1\n",
    "            sum = sum+avgNum\n",
    "\n",
    "    avg = sum/numOfPixel\n",
    "\n",
    "    for eachRow in imageArray:\n",
    "        for eachPix in eachRow:\n",
    "            if (eachPix[0]+eachPix[1]+eachPix[2])/3 > avg:\n",
    "                eachPix[0] = 255\n",
    "                eachPix[1] = 255\n",
    "                eachPix[2] = 255\n",
    "            else:\n",
    "                eachPix[0] = 0\n",
    "                eachPix[1] = 0\n",
    "                eachPix[2] = 0\n",
    "\n",
    "    return newArr\n",
    "\n",
    "def createExamples():\n",
    "    numbersWeHave = range(0,10)\n",
    "    versionsWeHave = range(1,10)\n",
    "\n",
    "    for eachNum in numbersWeHave:\n",
    "        for eachVer in versionsWeHave:\n",
    "            imgFilePath = 'images/numbers/' + str(eachNum) + '.' + str(eachVer) + '.png'\n",
    "            print(imgFilePath)\n",
    "\n",
    "i1 = Image.open('images/numbers/y0.4.png')\n",
    "\n",
    "iar1 = np.array(i1)\n",
    "\n",
    "iar2 = np.array(i1)\n",
    "\n",
    "threshold(iar1)\n",
    "\n",
    "ax1 = plt.subplot2grid((8,6), (0,0), rowspan=4, colspan=3)\n",
    "\n",
    "ax2= plt.subplot2grid((8,6), (0,3), rowspan=4, colspan=3)\n",
    "\n",
    "\n",
    "ax1.imshow(iar1)\n",
    "ax2.imshow(iar2)\n",
    "\n",
    "\n",
    "plt.show()\n",
    "\n",
    "#createExamples()\n",
    "\n",
    "\n",
    "\n"
   ]
  }
 ],
 "metadata": {
  "jupytext": {
   "cell_metadata_filter": "-all",
   "main_language": "python",
   "notebook_metadata_filter": "-all",
   "text_representation": {
    "extension": ".py",
    "format_name": "percent"
   }
  }
 },
 "nbformat": 4,
 "nbformat_minor": 5
}