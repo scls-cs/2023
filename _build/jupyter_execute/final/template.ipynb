{
 "cells": [
  {
   "cell_type": "code",
   "execution_count": null,
   "id": "525a0ac3",
   "metadata": {
    "lines_to_next_cell": 2
   },
   "outputs": [],
   "source": [
    "import cv2\n",
    "\n",
    "img = cv2.imread('paris.jpeg') #read the beautiful image of golden gate bridge\n",
    "\n",
    "img_width= img.shape[1]  #image width\n",
    "img_height= img.shape[0] #image height\n",
    "\n",
    "print(img_width, img_height) #print image width and height\n",
    "\n",
    "blue = img[100, 200, 0] #get the value of blue channel of pixel at row 100, column 200\n",
    "green = img[100, 200, 1] # get the value of green channel of the same pixel\n",
    "red = img[100, 200, 2]  #get the value of red channel of the same pixel\n",
    "\n",
    "print(blue, green, red) #print the pixel's RGB value\n",
    "\n",
    "img[100, 200] = [255, 255, 255]\n",
    "\n",
    "for row in range(img_height):\n",
    "    for col in range(img_width):\n",
    "        blue = img[row, col, 0]\n",
    "        green = img[row, col, 1]\n",
    "        red = img[row, col, 2]\n",
    "\n",
    "        r = 0.393*red+0.769*green+0.189*blue\n",
    "        g = 0.349*red+0.686*green+0.168*blue\n",
    "        b = 0.272*red+0.534*green+0.131*blue\n",
    "        #print(blue, green, red)\n",
    "        #color = (blue+green+red)/3\n",
    "        img[row, col] = [r, g, b]\n",
    "\n",
    "cv2.imshow(\"Demo\", img)\n",
    "cv2.imwrite('1.png', img)\n",
    "\n",
    "\n",
    "k=cv2.waitKey(0)\n",
    "\n",
    "if k==27:\n",
    "    cv2.destroyAllWindows()\n",
    "\n",
    "\n"
   ]
  }
 ],
 "metadata": {
  "jupytext": {
   "cell_metadata_filter": "-all",
   "main_language": "python",
   "notebook_metadata_filter": "-all",
   "text_representation": {
    "extension": ".py",
    "format_name": "percent"
   }
  }
 },
 "nbformat": 4,
 "nbformat_minor": 5
}