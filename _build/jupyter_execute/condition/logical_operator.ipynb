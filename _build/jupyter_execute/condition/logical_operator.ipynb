{
 "cells": [
  {
   "cell_type": "markdown",
   "id": "5c19e988",
   "metadata": {},
   "source": [
    "# 逻辑运算符 #\n",
    "\n",
    ":::{note}\n",
    "这一节是基于 [*Jupyter Notebook*]来生成，你可以点击右上角的Live Code进入编程模式。\n",
    ":::\n",
    "\n",
    "[*Jupyter Notebook*]: https://jupyter.org/about\n",
    "\n",
    "## 布尔运算 ##\n",
    "\n",
    "乔治.布尔在提出布尔代数的同时，还规定了布尔代数的运算方式，也就是布尔运算（boolean operation)。布尔运算包含三种基本运算符：and，or，not。\n",
    "\n",
    "## and ##\n",
    "\n",
    "先来看and运算。这里P和Q都是布尔值。将P、Q的所有组合对应的结果表示出来，如下表所示：\n",
    "\n",
    "\n",
    "```{list-table}\n",
    "   :widths: 25 25 50\n",
    "   :header-rows: 1\n",
    "\n",
    "   * - P\n",
    "     - Q\n",
    "     - P and Q\n",
    "   * - True\n",
    "     - True\n",
    "     - True\n",
    "   * - True\n",
    "     - False\n",
    "     - False\n",
    "   * - False\n",
    "     - True\n",
    "     - False\n",
    "   * - False\n",
    "     - False\n",
    "     - False\n",
    "```\n",
    "\n",
    "and运算又称为逻辑与运算：当且仅当P和Q同时为真的时候，P and Q为真；否则P and Q为假。\n",
    "\n",
    "上表叫做真值表（Truth Table），它列出了所有可能的运算组合。真值表和逻辑运算一一对应。\n",
    "\n",
    "## or ##\n",
    "\n",
    "同样，我们可以写出or的真值表：\n",
    "\n",
    "```{list-table}\n",
    "   :widths: 25 25 50\n",
    "   :header-rows: 1\n",
    "\n",
    "   * - P\n",
    "     - Q\n",
    "     - P or Q\n",
    "   * - True\n",
    "     - True\n",
    "     - True\n",
    "   * - True\n",
    "     - False\n",
    "     - True\n",
    "   * - False\n",
    "     - True\n",
    "     - True\n",
    "   * - False\n",
    "     - False\n",
    "     - False\n",
    "```\n",
    "\n",
    "or运算又称为逻辑或运算：P和Q至少有一个为真的时候，P or Q为真；否则P or Q为假。\n",
    "\n",
    "## not ##\n",
    "\n",
    "not的真值表：\n",
    "\n",
    "```{list-table}\n",
    "   :widths: 25 50\n",
    "   :header-rows: 1\n",
    "\n",
    "   * - P\n",
    "     - not P\n",
    "   * - True\n",
    "     - False\n",
    "   * - False\n",
    "     - True\n",
    "```\n",
    "\n",
    "## ex1 ##"
   ]
  },
  {
   "cell_type": "code",
   "execution_count": 1,
   "id": "4d48c2bc",
   "metadata": {},
   "outputs": [
    {
     "name": "stdout",
     "output_type": "stream",
     "text": [
      "The numbers are greater than 0\n",
      "At least one number is not greater than 0\n"
     ]
    }
   ],
   "source": [
    "a = 10\n",
    "b = 10\n",
    "c = -10\n",
    "\n",
    "if a > 0 and b > 0:\n",
    "    print(\"The numbers are greater than 0\")\n",
    "\n",
    "if a > 0 and b > 0 and c > 0:\n",
    "    print(\"The numbers are greater than 0\")\n",
    "else:\n",
    "    print(\"At least one number is not greater than 0\")\n",
    "\n",
    "#output: \"The numbers are greater than 0\"\n",
    "# \"At least one number is not greater than 0\""
   ]
  },
  {
   "cell_type": "markdown",
   "id": "1925d1b7",
   "metadata": {},
   "source": [
    "## ex2 ##"
   ]
  },
  {
   "cell_type": "code",
   "execution_count": 2,
   "id": "1a585c36",
   "metadata": {},
   "outputs": [
    {
     "name": "stdout",
     "output_type": "stream",
     "text": [
      "Either of the number is greater than 0\n",
      "No number is greater than 0\n"
     ]
    }
   ],
   "source": [
    "a = 10\n",
    "b = -10\n",
    "c = 0\n",
    "\n",
    "if a > 0 or b > 0:\n",
    "    print(\"Either of the number is greater than 0\")\n",
    "else:\n",
    "    print(\"No number is greater than 0\")\n",
    "\n",
    "if b > 0 or c > 0:\n",
    "    print(\"Either of the number is greater than 0\")\n",
    "else:\n",
    "    print(\"No number is greater than 0\")\n",
    "\n",
    "\n",
    "  #output: \"Either of the number is greater than 0\"\n",
    "  # \"No number is greater than 0\""
   ]
  },
  {
   "cell_type": "markdown",
   "id": "47065bdd",
   "metadata": {},
   "source": [
    "## ex3 ##"
   ]
  },
  {
   "cell_type": "code",
   "execution_count": 3,
   "id": "f461df74",
   "metadata": {},
   "outputs": [
    {
     "name": "stdout",
     "output_type": "stream",
     "text": [
      "x is outside\n"
     ]
    }
   ],
   "source": [
    "x = 50\n",
    "\n",
    "if not (x>10):\n",
    "    print(\"x is no greater than 10\")\n",
    "\n",
    "if not (20 <= x < 40):\n",
    "    print(\"x is outside\")"
   ]
  },
  {
   "cell_type": "markdown",
   "id": "2a3e9779",
   "metadata": {},
   "source": [
    "## ex4 ##"
   ]
  },
  {
   "cell_type": "code",
   "execution_count": 4,
   "id": "e3401c57",
   "metadata": {},
   "outputs": [],
   "source": [
    "def leapYear(year):\n",
    "    if(year<1582):\n",
    "        return year%4==0\n",
    "    else:\n",
    "        return (year%400==0) or (year%100!=0 and year%4==0)"
   ]
  }
 ],
 "metadata": {
  "jupytext": {
   "formats": "md:myst",
   "text_representation": {
    "extension": ".md",
    "format_name": "myst"
   }
  },
  "kernelspec": {
   "display_name": "Python 3",
   "language": "python",
   "name": "python3"
  },
  "language_info": {
   "codemirror_mode": {
    "name": "ipython",
    "version": 3
   },
   "file_extension": ".py",
   "mimetype": "text/x-python",
   "name": "python",
   "nbconvert_exporter": "python",
   "pygments_lexer": "ipython3",
   "version": "3.9.2"
  },
  "rise": {
   "start_slideshow_at": "beginning"
  },
  "source_map": [
   14,
   103,
   118,
   121,
   139,
   141,
   149,
   151
  ]
 },
 "nbformat": 4,
 "nbformat_minor": 5
}