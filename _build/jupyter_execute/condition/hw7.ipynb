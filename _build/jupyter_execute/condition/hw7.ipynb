{
 "cells": [
  {
   "cell_type": "markdown",
   "id": "c426d2b5",
   "metadata": {},
   "source": [
    "# Problem Set 7 #\n",
    "\n",
    "## Warming Up ##\n",
    "Python has a built-in module that you can use to make random numbers: **random**, which you will use in the next problem.\n",
    "\n",
    "Run the following code 3 times and observe the results."
   ]
  },
  {
   "cell_type": "code",
   "execution_count": 1,
   "id": "afb5f428",
   "metadata": {},
   "outputs": [
    {
     "name": "stdout",
     "output_type": "stream",
     "text": [
      "10\n",
      "0.9093569062244468\n"
     ]
    }
   ],
   "source": [
    "import random\n",
    "\n",
    "print( random.randint(1,10) )        # 产生 1 到 10（包含）的一个整数型随机数  \n",
    "print( random.random() )             # 产生 0 到 1 之间的随机浮点数\n"
   ]
  },
  {
   "cell_type": "markdown",
   "id": "d4e44a9a",
   "metadata": {},
   "source": [
    "## Quiz ##\n",
    "\n",
    "Teachers often use quizzes to evaluate students. Now it's time to create your own quiz.\n",
    "\n",
    "**This is the list of features your quiz needs to have:**\n",
    "\n",
    "1. Contain **FIVE OR MORE** questions. \n",
    "2. Include a question which use a number as an answer(e.g., what is 1+1?)\n",
    "3. Include a multiple-choice question(e.g., Which of these choices are correct?A, B, C or D?)\n",
    "4. Include a question which use text as answer(e.g., Which country is ranked first in women's football?)\n",
    "\n",
    "You need to keep track of how many questions they get correct.\n",
    "At the end of the program print the percentage of questions the user gets right.\n",
    "\n",
    "The output should be like this:\n",
    "```python\n",
    "Quiz time!\n",
    "\n",
    "How many books are there in the Harry Potter series? 7\n",
    "Correct!\n",
    "\n",
    "What is 3*(2-1)? 3\n",
    "Correct!\n",
    "\n",
    "\n",
    "小明从A班转到了B班，两个班级的平均智商都提高了，这可能么？\n",
    "A. 可能\n",
    "B. 不可能\n",
    "C. 不确定\n",
    "? A\n",
    "Correct!\n",
    "\n",
    "Who is on the front of a one dollar bill?\n",
    "1. George Washington\n",
    "2. Abraham Lincoln\n",
    "3. John Adams\n",
    "4. Thomas Jefferson\n",
    "? 2\n",
    "No.\n",
    "\n",
    "Congratulations, you got 3 answers right.\n",
    "That is a score of 75.0 percent.\n",
    "```\n",
    "## Guessing Game ##\n",
    "\n",
    "You are going to make a simple guessing game where the computer will generate a random number between x and y, and the user has to guess it in certain attempts.\n",
    "\n",
    "Based on the user's guess computer will give various hints if the number is high or low. When the user guess matches the number computer will print the answer along with the number of attempts.\n",
    "\n",
    "The output should be like this:\n",
    "```python\n",
    "GAME LOADING...\n",
    "\n",
    "What is the lower bond of the number? \n",
    "3\n",
    "What is the upper bond of the number?\n",
    "50\n",
    "Generating a random number between 3-50....\n",
    "\n",
    "How many tries for the player to win?\n",
    "5\n",
    "\n",
    "GAME READY. Now let's play!\n",
    "\n",
    "Hello, What's your name?\n",
    "Derek\n",
    "\n",
    "Hi Derek, you are going to guess a number between 3 and 50.\n",
    "You have 5 tries to win the game. \n",
    "\n",
    "Your first guess is: 2\n",
    "Your guess is too low\n",
    "\n",
    "Your next guess is: 4\n",
    "Your guess is too low\n",
    "\n",
    "Your next guess is: 6\n",
    "You win the game in 3 tries!\n",
    "```\n",
    "\n",
    "If the player failed to guess the number within 5 times, give a reasonable output accordingly. \n",
    "\n",
    ":::{important}\n",
    "In order to design the game, you have to use a control structure called **loop**, so that the player could guess repetitively. \n",
    "\n",
    "Also, you want to quit the game when player guessed the number. You need to use another command called **break**, which terminates the loop in advance.\n",
    "\n",
    "You can check the links below, or search online how to use loop and break:\n",
    "\n",
    "https://www.runoob.com/python/python-while-loop.html\n",
    "https://www.runoob.com/python/python-break-statement.html\n",
    "\n",
    "The part of the loop and break is provided. You can copy/paste it. \n",
    ":::\n",
    "\n",
    "```python\n",
    "\n",
    "import random\n",
    "\n",
    "i=0\n",
    "while(i<5):   #change the number 5 to the actual tries\n",
    "  #add code here\n",
    "  if(when user make a correct guess): \n",
    "    break  \n",
    "    \n",
    "  i=i+1 #do not change this line\n",
    "    \n",
    "```\n",
    "\n",
    "## Submission ##\n",
    "\n",
    "Submit the homework via 钉钉作业本 by Sunday 22PM."
   ]
  }
 ],
 "metadata": {
  "jupytext": {
   "formats": "md:myst",
   "text_representation": {
    "extension": ".md",
    "format_name": "myst"
   }
  },
  "kernelspec": {
   "display_name": "Python 3",
   "language": "python",
   "name": "python3"
  },
  "language_info": {
   "codemirror_mode": {
    "name": "ipython",
    "version": 3
   },
   "file_extension": ".py",
   "mimetype": "text/x-python",
   "name": "python",
   "nbconvert_exporter": "python",
   "pygments_lexer": "ipython3",
   "version": "3.9.2"
  },
  "rise": {
   "start_slideshow_at": "beginning"
  },
  "source_map": [
   14,
   23,
   30
  ]
 },
 "nbformat": 4,
 "nbformat_minor": 5
}