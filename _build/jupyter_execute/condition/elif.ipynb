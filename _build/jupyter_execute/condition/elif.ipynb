{
 "cells": [
  {
   "cell_type": "markdown",
   "id": "7a5a4e48",
   "metadata": {},
   "source": [
    "# 多分支语句 #\n",
    "\n",
    ":::{note}\n",
    "这一节是基于 [*Jupyter Notebook*]来生成，你可以点击右上角的Live Code进入编程模式。\n",
    ":::\n",
    "\n",
    "[*Jupyter Notebook*]: https://jupyter.org/about\n",
    "\n",
    "## elif ##\n",
    "\n",
    "if-else又被称为双分支语句。其实Python还可以支持多分支语句。\n",
    "\n",
    "多分支语句的语法如下：\n",
    "```python\n",
    "if(cond1):\n",
    "    A\n",
    "elif(cond2):\n",
    "    B\n",
    "elif(cond3):\n",
    "    C\n",
    "...\n",
    "else:\n",
    "    X\n",
    "```\n",
    "如果cond1成立，就执行A；如果cond1不成立，就再看cond2是否成立。如果cond2成立，那么执行B；否则再看看cond3是否成立...如果所有条件都不成立，那么就执行X。"
   ]
  },
  {
   "cell_type": "code",
   "execution_count": 1,
   "id": "523a26a5",
   "metadata": {},
   "outputs": [
    {
     "name": "stdout",
     "output_type": "stream",
     "text": [
      "C\n"
     ]
    }
   ],
   "source": [
    "grade = 75\n",
    "if(grade >= 90):\n",
    "    print(\"A\")\n",
    "elif(grade >= 80):\n",
    "    print(\"B\")\n",
    "elif(grade >= 70):\n",
    "    print(\"C\")\n",
    "elif(grade >= 60):\n",
    "    print(\"D\")\n",
    "else:\n",
    "    print(\"Class Failed!\")"
   ]
  },
  {
   "cell_type": "markdown",
   "id": "a416d02a",
   "metadata": {},
   "source": [
    "```{note}\n",
    "多分支语句和双分支语句一样，有且只有一个分支会被执行。\n",
    "```\n",
    "\n",
    "## if和elif\n",
    "对于很多初学者来说，会误以为elif可以用多个if语句来代替。例如上面的程序可以写成："
   ]
  },
  {
   "cell_type": "code",
   "execution_count": 2,
   "id": "333c59e5",
   "metadata": {},
   "outputs": [
    {
     "name": "stdout",
     "output_type": "stream",
     "text": [
      "C\n",
      "D\n"
     ]
    }
   ],
   "source": [
    "if(grade >= 90):\n",
    "    print(\"A\")\n",
    "if(grade >= 80):\n",
    "    print(\"B\")\n",
    "if(grade >=70):\n",
    "    print(\"C\")\n",
    "if(grade >= 60):\n",
    "    print(\"D\")"
   ]
  },
  {
   "cell_type": "markdown",
   "id": "e7e7b951",
   "metadata": {},
   "source": [
    "多分支语句中，只有一个条件能够成立（否则执行else分支）。\n",
    "\n",
    "在多个if语句中，程序会检查每一个条件，只要条件成立就会执行对应的语句。\n",
    "\n",
    "（如果你考了95分，程序会打印”A“，“B”，“C”，“D”四个结果，因为每一个条件都成立！）\n",
    "\n",
    "## if语句的嵌套 ##\n",
    "\n",
    "if, else和elif可以嵌套起来一起使用，称为条件嵌套(nested condition)。\n",
    "\n",
    "条件嵌套的关键是缩进，缩进决定了不同分支的逻辑层次。"
   ]
  },
  {
   "cell_type": "code",
   "execution_count": 3,
   "id": "cd881f74",
   "metadata": {},
   "outputs": [],
   "source": [
    "def checkBMI(bmi):\n",
    "  if(bmi < 18.5):\n",
    "      print(\"Too thin\")\n",
    "  else:\n",
    "      if(bmi < 25):\n",
    "          print(\"Fit\")\n",
    "      elif(bmi < 30):\n",
    "          print(\"Overweight\")\n",
    "      elif(bmi < 40):\n",
    "          print(\"Obesity\")\n",
    "      else:\n",
    "          print(\"Go to see a doctor right now.\")"
   ]
  },
  {
   "cell_type": "markdown",
   "id": "ee77ed04",
   "metadata": {},
   "source": [
    "上面这段代码有两个条件结构：第一个条件结构包含if-else两个分支；第二个条件结构嵌套在else分支里，包含四个分支。\n",
    "\n",
    "## Exercise ##\n",
    "\n",
    "Ex0. 程序运行后，a，b，x，y的值分别是什么？\n",
    "```python\n",
    "x = 7\n",
    "y = 4\n",
    "a = False\n",
    "b = False\n",
    "if (x > y):\n",
    "    if (x % y <= 2):\n",
    "        a = True\n",
    "        x = x + y\n",
    "    elif (x/y < 2):\n",
    "        x = x - y\n",
    "        b = True\n",
    "    else:\n",
    "        x = y + 1\n",
    "if (x < y):\n",
    "    if (y % x >= 3):\n",
    "        b = True\n",
    "        x = x - y;\n",
    "    else:\n",
    "        x = x + y\n",
    "```\n",
    "\n",
    "Ex1. 某地按照阶梯电价计算电费，计算规则如下：\n",
    "```{list-table}\n",
    "   :widths: 25 25  50\n",
    "   :header-rows: 1\n",
    "\n",
    "   * - 类别\n",
    "     - 用电量\n",
    "     - 电价标准\n",
    "   * - 一档\n",
    "     - 1-240（含）\n",
    "     - 0.48\n",
    "   * - 二档\n",
    "     - 241-400（含）\n",
    "     - 0.54\n",
    "   * - 三档\n",
    "     - 400以上\n",
    "     - 0.79\n",
    "```\n",
    "请编写函数来实现这一功能。"
   ]
  },
  {
   "cell_type": "code",
   "execution_count": 4,
   "id": "5776f908",
   "metadata": {},
   "outputs": [
    {
     "name": "stdout",
     "output_type": "stream",
     "text": [
      "96.0\n",
      "0\n",
      "0\n"
     ]
    }
   ],
   "source": [
    "def getBill(degrees):\n",
    "    cost = 0\n",
    "    if(degrees <= 240):\n",
    "        cost = degrees*0.48\n",
    "    #add code here\n",
    "    \n",
    "    return cost\n",
    "\n",
    "\n",
    "print(getBill(200)) #96.0\n",
    "print(getBill(350)) #174.6 \n",
    "print(getBill(500)) #280.6"
   ]
  },
  {
   "cell_type": "markdown",
   "id": "3225b7a1",
   "metadata": {},
   "source": [
    "ex2. Your cell phone rings. Return true if you should answer it. Normally you answer, except in the morning you only answer if it is your mom calling. In all cases, if you are asleep, you do not answer.\n",
    "\n",
    "answerCell(False, False, False) → True\n",
    "\n",
    "answerCell(False, False, True) → False\n",
    "\n",
    "answerCell(True, False, False) → False"
   ]
  },
  {
   "cell_type": "code",
   "execution_count": 5,
   "id": "8f01aafa",
   "metadata": {},
   "outputs": [
    {
     "name": "stdout",
     "output_type": "stream",
     "text": [
      "True\n",
      "True\n",
      "True\n"
     ]
    }
   ],
   "source": [
    "def answerCell(isMorning, isMom, isAsleep):\n",
    "   #add code here\n",
    "   return True\n",
    "\n",
    "\n",
    "print(answerCell(False, False, False)) # True\n",
    "print(answerCell(False, False, True)) # False\n",
    "print(answerCell(True, False, False)) # False"
   ]
  },
  {
   "cell_type": "markdown",
   "id": "946ac7b9",
   "metadata": {},
   "source": [
    "## 作业 ##\n",
    "[Problem Set 7](hw7.md)"
   ]
  }
 ],
 "metadata": {
  "jupytext": {
   "formats": "md:myst",
   "text_representation": {
    "extension": ".md",
    "format_name": "myst"
   }
  },
  "kernelspec": {
   "display_name": "Python 3",
   "language": "python",
   "name": "python3"
  },
  "language_info": {
   "codemirror_mode": {
    "name": "ipython",
    "version": 3
   },
   "file_extension": ".py",
   "mimetype": "text/x-python",
   "name": "python",
   "nbconvert_exporter": "python",
   "pygments_lexer": "ipython3",
   "version": "3.9.2"
  },
  "rise": {
   "start_slideshow_at": "beginning"
  },
  "source_map": [
   14,
   42,
   54,
   62,
   71,
   85,
   98,
   146,
   159,
   168,
   177
  ]
 },
 "nbformat": 4,
 "nbformat_minor": 5
}