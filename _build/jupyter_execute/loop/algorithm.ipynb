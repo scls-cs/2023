{
 "cells": [
  {
   "cell_type": "markdown",
   "id": "a1810333",
   "metadata": {},
   "source": [
    "# 列表算法 #\n",
    "\n",
    "“算法”一词最早出现在《周髀算经》这本书中，对应的单词是“algorism”（由9世纪的波斯数学家阿尔·霍瓦里兹米提出），代指阿拉伯数字的运算规则。随着计算机的快速发展，“算法”被赋予了新的含义，代指解决问题的方法，对应的英文单词演变为“algorithm”。\n",
    "\n",
    "在计算机里，算法通常指解决某一问题的具体步骤：先做什么，再做什么，最后做什么，计算机只需要依照步骤运行，就可以解决问题。\n",
    "\n",
    "列表中常见的算法包括：\n",
    "\n",
    "* 找出列表元素极值，例如最大值和最小值\n",
    "* 对列表元素进行统计，例如求和、求平均值\n",
    "* 统计符合特征的元素个数\n",
    "* 判断是否数组中存在元素符合某种特征\n",
    "* 判断是否数组中的所有元素都符合某种特征\n",
    "\n",
    "这些算法通常具有固定的模式：\n",
    "\n",
    "1. 从列表第一个元素开始进行顺序遍历(sequential iteration)\n",
    "2. 依次检查每一个元素\n",
    "3. 对元素进行一些操作\n",
    "   比较/筛选\n",
    "   （或）加到某一个变量上\n",
    "4. 持续遍历列表直到\n",
    "   找到符合条件的元素\n",
    "   （或）遍历到列表末尾\n",
    "\n",
    "## 寻找极值 ##\n",
    "下面代码用来打印a_list中元素的最大值："
   ]
  },
  {
   "cell_type": "code",
   "execution_count": null,
   "id": "280ae0bc",
   "metadata": {},
   "outputs": [],
   "source": [
    "a_list = [1,3,7,2,4]\n",
    "\n",
    "a_max = a_list[0]\n",
    "\n",
    "for i in range(len(a_list)):\n",
    "    if(a_list[i]> a_max):\n",
    "        a_max = a_list[i]\n",
    "        \n",
    "print(a_max)"
   ]
  },
  {
   "cell_type": "markdown",
   "id": "353f2aab",
   "metadata": {},
   "source": [
    "我们也可以将它写成函数形式："
   ]
  },
  {
   "cell_type": "code",
   "execution_count": null,
   "id": "a25d31de",
   "metadata": {},
   "outputs": [],
   "source": [
    "def find_max(l):\n",
    "    result = l[0]\n",
    "    for i in range(len(l)):\n",
    "        if(l[i]> result):\n",
    "            result = l[i]\n",
    "    return result\n",
    "\n",
    "print(find_max([1,3,7,2,4]))"
   ]
  },
  {
   "cell_type": "markdown",
   "id": "410c3a65",
   "metadata": {},
   "source": [
    "## 列表元素求和 ##"
   ]
  },
  {
   "cell_type": "code",
   "execution_count": null,
   "id": "71676926",
   "metadata": {},
   "outputs": [],
   "source": [
    "def get_sum(l):\n",
    "    sum = 0\n",
    "    for i in range(len(l)):\n",
    "        sum = sum+l[i]\n",
    "    return sum\n",
    "print(get_sum([1,3,7,2,4]))"
   ]
  },
  {
   "cell_type": "markdown",
   "id": "b4e12fba",
   "metadata": {},
   "source": [
    "## 统计符合某种特征的元素个数 ##\n",
    "\n",
    "Exercise: 统计列表中的偶数个数"
   ]
  },
  {
   "cell_type": "code",
   "execution_count": null,
   "id": "46276a63",
   "metadata": {},
   "outputs": [],
   "source": [
    "def count_even(l):\n",
    "    count = 0\n",
    "    for i in range(len(l)):\n",
    "        if(l[i] % 2 == 0):\n",
    "            count=count+1\n",
    "    return count\n",
    "\n",
    "print(count_even([1,3,7,2,4]))"
   ]
  },
  {
   "cell_type": "markdown",
   "id": "966f1f7b",
   "metadata": {},
   "source": [
    "## 统计符合某种特征的元素个数 ##\n",
    "如何判断列表中所有元素均为偶数？\n",
    "\n",
    "我们可以遍历列表，如果发现有元素是奇数，则直接返回False；如果所有元素都遍历完毕，函数依然没有返回，则说明所有元素均为偶数，函数返回True。"
   ]
  },
  {
   "cell_type": "code",
   "execution_count": null,
   "id": "18c6512c",
   "metadata": {},
   "outputs": [],
   "source": [
    "def all_even(l):\n",
    "    for i in range(len(l)):\n",
    "        if(l[i] % 2 != 0):\n",
    "            return False\n",
    "    return True\n",
    "print(all_even([2, 0, 3,4])) "
   ]
  },
  {
   "cell_type": "markdown",
   "id": "5402a75c",
   "metadata": {},
   "source": [
    "\"判断列表中的所有元素都符合X特征\"，这类问题算法如下：\n",
    "\n",
    "1. 顺序遍历列表，如果找到一个反例（不符合X特征），则直接返回False\n",
    "\n",
    "2. 如果列表遍历结束，函数依然没有返回，则说明所有元素均符合X特征，函数返回True\n",
    "\n",
    "## 课件 ##\n",
    "\n",
    "课件下载：{download}`Algorithm <Algorithm.pptx>`\n",
    "\n",
    "## 作业 ##\n",
    "\n",
    "### Execise ###\n",
    "问题：编写函数，判断列表是否严格单调递增。"
   ]
  },
  {
   "cell_type": "code",
   "execution_count": null,
   "id": "28e323a1",
   "metadata": {},
   "outputs": [],
   "source": [
    "def check(l):\n",
    "    #Add code here\n",
    "    \n",
    "    \n",
    "    \n",
    "print(check([1,3,7,24,28]))  #True\n",
    "print(check([1,3,7,4]))\t     #False\n"
   ]
  },
  {
   "cell_type": "markdown",
   "id": "8361db82",
   "metadata": {},
   "source": [
    "### Sound ###\n",
    "\n",
    "Digital sounds can be represented as a list of integer values. The volume of a sound depends on the amplitude of each value in the sound. The amplitude of a value is its absolute value. For example, the amplitude of -20 is 20, and the amplitude of 40 is 40.\n",
    "\n",
    "#### Part(a) ####\n",
    "\n",
    "High level of volume can damage your hearing. Write a function **isSafe(sound)** that will determine if the amplitude of any value in the list of sound is below 1000. \n",
    "\n",
    "For example, **isSafe([500, 450, -50, 250])** will return True, while **ifSafe([1020, 80, -200])** will return False."
   ]
  },
  {
   "cell_type": "code",
   "execution_count": null,
   "id": "d8b114fc",
   "metadata": {},
   "outputs": [],
   "source": [
    "def isSafe(sample):\n",
    "    #Add code here\n",
    "    \n",
    "    \n",
    "    \n",
    "    \n",
    "    \n",
    "    \n",
    "print(isSafe([500, 450, -50, 250]))  #True\n",
    "print(isSafe([1020, 80, -200]))\t     #False\n"
   ]
  },
  {
   "cell_type": "markdown",
   "id": "2ab62d2d",
   "metadata": {},
   "source": [
    "#### Part(b) ####\n",
    "\n",
    "Write a function **countNoise(sample, limit)** that will return the total number of values in a sample that were greater than limit, or less than -limit. For example, assume that the sample has been initialized with the following values:\n",
    "\n",
    "![list](list.png)\n",
    "\n",
    "When the statement\n",
    "\n",
    "```python\n",
    "s = [40, 2532, 17, -2300, -17, -4000, 2000, 1048, -420, 33, 15, -32, 2030, 3223]\n",
    "\n",
    "count = countNoise(s, 2000)\n",
    "\n",
    "print(count)\n",
    "```\n",
    "is executed, count will be 5, since there are 5 values that are greater than 2000, or less than -2000."
   ]
  },
  {
   "cell_type": "code",
   "execution_count": null,
   "id": "a3f32a1b",
   "metadata": {},
   "outputs": [],
   "source": [
    "def countNoise(sample, limit):\n",
    "    #Add code here\n",
    "    \n",
    "    \n",
    "    \n",
    "    \n",
    "    \n",
    "    \n",
    "    \n",
    "\n",
    "s = [40, 2532, 17, -2300, -17, -4000, 2000, 1048, -420, 33, 15, -32, 2030, 3223]\n",
    "print(countNoise(s, 2000))  #5"
   ]
  },
  {
   "cell_type": "markdown",
   "id": "5a8493de",
   "metadata": {},
   "source": [
    "### Part(c) ###\n",
    "\n",
    "Write a function **limitAmplitude(sample, limit)** that will change any value that has an amplitude greater than the given limit. Values that are greater than limit are replaced with limit, and values that are less than -limit are replaced with –limit. For example, when\n",
    "\n",
    "```python\n",
    "s = [40, 2532, 17, -2300, -17, -4000, 2000, 1048, -420, 33, 15, -32, 2030, 3223]\n",
    "\n",
    "limitAmplitude(s, 2000)\n",
    "```\n",
    "\n",
    "is executed, sample will contain the following values:\n",
    "\n",
    "![list-2](list-2.png)"
   ]
  },
  {
   "cell_type": "code",
   "execution_count": null,
   "id": "61279f74",
   "metadata": {},
   "outputs": [],
   "source": [
    "def limitAmplitude(sample, limit):\n",
    "    #Add code here\n",
    "    \n",
    "    \n",
    "    \n",
    "    \n",
    "    \n",
    "    \n",
    "    \n",
    "    \n",
    "s = [40, 2532, 17, -2300, -17, -4000, 2000, 1048, -420, 33, 15, -32, 2030, 3223]\n",
    "limitAmplitude(s, 2000)\n",
    "print(sample) # should print the values as shown above"
   ]
  }
 ],
 "metadata": {
  "jupytext": {
   "formats": "md:myst",
   "text_representation": {
    "extension": ".md",
    "format_name": "myst"
   }
  },
  "kernelspec": {
   "display_name": "Python 3",
   "language": "python",
   "name": "python3"
  },
  "rise": {
   "start_slideshow_at": "beginning"
  },
  "source_map": [
   14,
   44,
   54,
   57,
   66,
   70,
   77,
   83,
   92,
   99,
   106,
   123,
   132,
   144,
   156,
   175,
   188,
   205
  ]
 },
 "nbformat": 4,
 "nbformat_minor": 5
}