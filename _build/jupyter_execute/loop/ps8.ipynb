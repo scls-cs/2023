{
 "cells": [
  {
   "cell_type": "markdown",
   "id": "3d44e4af",
   "metadata": {},
   "source": [
    "# Problem Set 8 #\n",
    "\n",
    "## 1. Warming Up ##\n",
    "\n",
    "This program intends to print the sum of all even digits of an integer. For example, if M is 12345, it wants to print 6, which is 2+4. \n",
    "\n",
    "Fix the bug of the program."
   ]
  },
  {
   "cell_type": "code",
   "execution_count": null,
   "id": "6544b089",
   "metadata": {},
   "outputs": [],
   "source": [
    "M = 987654321\n",
    "s = \"\"\n",
    "while (M != 0) {\n",
    "   digit = M % 10\n",
    "   if(digit%2):\n",
    "   \ts = s + digit\n",
    "   \ts = s + str(digit)\n",
    "   \tM = M / 10\n",
    "}\n",
    "print(s)  //should print 20\n",
    "\n"
   ]
  },
  {
   "cell_type": "markdown",
   "id": "d4475319",
   "metadata": {},
   "source": [
    "## 2. Check Prime Number ##\n",
    "\n",
    "A prime number is a number that is only divisible by 1 and itself. The standard method to test to\n",
    "see if a number is prime or not is to try dividing it by each number starting at 2, to see if there is any remainder or not.\n",
    "\n",
    "Write a function called checkPrime(n). It will return *True* if n is prime, otherwise return *False*."
   ]
  },
  {
   "cell_type": "code",
   "execution_count": null,
   "id": "8464d430",
   "metadata": {},
   "outputs": [],
   "source": [
    "def checkPrime(n):\n",
    "  #add your code here\n",
    "  return False\n"
   ]
  },
  {
   "cell_type": "markdown",
   "id": "c80795b8",
   "metadata": {},
   "source": [
    "You might want to use *break* in the loop, which is to terminate the loop beforehand. For example, the loop terminates when i became 7. You can also solve this problem without using break."
   ]
  },
  {
   "cell_type": "code",
   "execution_count": null,
   "id": "bd6aefe9",
   "metadata": {},
   "outputs": [],
   "source": [
    "i = 10\n",
    "while(i>0):\n",
    "  if(i == 7):\n",
    "\tbreak\n",
    "  print(i)\n",
    "  i=i-1"
   ]
  },
  {
   "cell_type": "markdown",
   "id": "d4a4a785",
   "metadata": {},
   "source": [
    "## 3. Simulation ##\n",
    "\n",
    "One practical use of computers is that they can be used to simulate items from real life. A nice property of a simulation is that it can be done really quickly and often times is very cheap to do. Actually rolling dice a million times would take a great deal of time! But we can use a loop to easily simulate the case:"
   ]
  },
  {
   "cell_type": "code",
   "execution_count": null,
   "id": "3b14faf6",
   "metadata": {},
   "outputs": [],
   "source": [
    "import random\n",
    "i = 1000000\n",
    "one=0\n",
    "two=0\n",
    "three=0\n",
    "four=0\n",
    "five=0\n",
    "six=0\n",
    "while(i>0):\n",
    "\ta = random.randint(1,6) #generate a random integer in range [1,6] including 6\n",
    "\tif(a == 1):\n",
    "\t\tone=one+1\n",
    "\telif(a == 2):\n",
    "\t\ttwo=two+1\n",
    "\telif(a == 3):\n",
    "\t\tthree=three+1\t\n",
    "\telif(a == 4):\n",
    "\t\tfour=four+1\t\n",
    "\telif(a == 5):\n",
    "\t\tfive=five+1\n",
    "\telse:\n",
    "\t\tsix=six+1\n",
    "\ti=i-1\n",
    "print(\"The possibility of getting face 1 is: \" + str(one/1000000))\t\n",
    "print(\"The possibility of getting face 2 is: \" + str(two/1000000))\t\n",
    "print(\"The possibility of getting face 3 is: \" + str(three/1000000))\t\n",
    "print(\"The possibility of getting face 4 is: \" + str(four/1000000))\t\n",
    "print(\"The possibility of getting face 5 is: \" + str(five/1000000))\t\n",
    "print(\"The possibility of getting face 6 is: \" + str(six/1000000))\t\n",
    "\t"
   ]
  },
  {
   "cell_type": "markdown",
   "id": "c197701f",
   "metadata": {},
   "source": [
    "Run this program and observe the results. Understanding the code is important to finish the next question.\n",
    "\n",
    "## 4. Three Dices Problem ##\n",
    "\n",
    "\n",
    "For this program, you'll write a simulation that repeatedly rolls three 6-sided dice. You'll be calculating how often the three dice all have different values. If you've taken a discrete math or probability course (by no means required!), you may have learned that the theoretical probability of obtaining three different values is $(6*5*4/6^3 = 0.5556)$\n",
    "\n",
    "This program will calculate the experimental probability of getting three different values for rolling the three dice 10 times, 100 times, 1000 times, and 10000 times.\n",
    "Consider the case when you roll the dice 10 times. Each time my while loop iterates, you want to roll all three dice once and answer the question \"are these all different?\".\n",
    "\n",
    "![dice](dice.png)\n",
    "\n",
    "Example Output:\n",
    "\n",
    "```\n",
    "Rolling dice 10 times.\n",
    "Number of mis-matched rolls: 5\n",
    "Experimental probability: 0.5\n",
    "\n",
    "Rolling dice 100 times.\n",
    "Number of mis-matched rolls: 45\n",
    "Experimental probability: 0.45\n",
    "\n",
    "Rolling dice 1000 times.\n",
    "Number of mis-matched rolls: 555\n",
    "Experimental probability: 0.555\n",
    "\n",
    "Rolling dice 10000 times.\n",
    "Number of mis-matched rolls: 5535\n",
    "Experimental probability: 0.5535\n",
    "\n",
    "```\n",
    "\n",
    "## 5. Optional: Pepys problem ##\n",
    "\n",
    "\n",
    "\n",
    "In 1693, Samuel Pepys asked Isaac Newton which was more likely: getting at least one 1 when rolling a 6-sided dice 6 times or getting at least two 1's when rolling 12 times. Write a method that uses simulation to determine the correct answer. You need to simulate the game in multiple trials.\n",
    "\n",
    "\n",
    "## Submission ##\n",
    "\n",
    "Submit the homework via 钉钉作业本 by Sunday 22PM."
   ]
  }
 ],
 "metadata": {
  "jupytext": {
   "formats": "md:myst",
   "text_representation": {
    "extension": ".md",
    "format_name": "myst"
   }
  },
  "kernelspec": {
   "display_name": "Python 3",
   "language": "python",
   "name": "python3"
  },
  "rise": {
   "start_slideshow_at": "beginning"
  },
  "source_map": [
   14,
   24,
   38,
   47,
   53,
   57,
   64,
   70,
   101
  ]
 },
 "nbformat": 4,
 "nbformat_minor": 5
}