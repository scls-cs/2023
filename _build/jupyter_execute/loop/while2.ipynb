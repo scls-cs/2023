{
 "cells": [
  {
   "cell_type": "markdown",
   "id": "d78e36a2",
   "metadata": {},
   "source": [
    "# while循环 II #\n",
    "\n",
    "## Ex0 ##\n",
    "指出下面程序的bug:"
   ]
  },
  {
   "cell_type": "code",
   "execution_count": null,
   "id": "531a8dfd",
   "metadata": {},
   "outputs": [],
   "source": [
    "def test():\n",
    "    counter = 0;\n",
    "    while counter > 100\n",
    "        if (counter % 2 == 1):\n",
    "            cout << counter << \" is odd.\" << endl;\n",
    "        else\n",
    "            cout << counter << \" is odd.\" << endl;\n",
    "            count = count + 1\n",
    "#test()"
   ]
  },
  {
   "cell_type": "markdown",
   "id": "1a8f96f6",
   "metadata": {},
   "source": [
    "while循环又称为\"当型循环\"：当条件为真时，循环执行某段程序。\n",
    "\n",
    "我们写while循环的时候，确定循环条件是最关键的步骤之一。\n",
    "\n",
    "## Ex1 ##\n",
    "\n",
    "下面程序的循环条件是什么？最后打印的值代表什么含义？"
   ]
  },
  {
   "cell_type": "code",
   "execution_count": null,
   "id": "f5fc58c4",
   "metadata": {},
   "outputs": [],
   "source": [
    "i = 1\n",
    "sum = 0\n",
    "while(sum<1000):\n",
    "    i=i+1\n",
    "    sum = sum + i\n",
    "\n",
    "print(i-1)"
   ]
  },
  {
   "cell_type": "markdown",
   "id": "c86d6bc6",
   "metadata": {},
   "source": [
    "## Ex2 ##\n",
    "下列程序的循环条件是什么？最后的count代表什么含义？"
   ]
  },
  {
   "cell_type": "code",
   "execution_count": null,
   "id": "ec07f7f7",
   "metadata": {},
   "outputs": [],
   "source": [
    "def f(str):\n",
    "    count = 0\n",
    "    i = 0\n",
    "    while(i < len(str)):\n",
    "        if(str[i] == 'a'):\n",
    "            count = count+1\n",
    "        i = i+1     \n",
    "    return count"
   ]
  },
  {
   "cell_type": "markdown",
   "id": "88842da8",
   "metadata": {},
   "source": [
    "## Ex3 ##\n",
    "\n",
    "Print the square roots of the first 25 odd positive integers."
   ]
  },
  {
   "cell_type": "code",
   "execution_count": null,
   "id": "c8ebe2ba",
   "metadata": {},
   "outputs": [],
   "source": [
    "import math\n",
    "def roots():\n",
    "    #add your code here\n",
    "    \n",
    "roots()"
   ]
  },
  {
   "cell_type": "markdown",
   "id": "9ee1aa1e",
   "metadata": {},
   "source": [
    "## Ex4 ##\n",
    "\n",
    "2019年年末中国人均GDP为10276美金，也是首次超过10000美金。一般来说，如果人均GDP超过2万美金，则说明该国家称为了中等发达国家。\n",
    "\n",
    "假设中国人均GDP年平均增长率为3.5%，请问中国成为中等发达国家的时间是？"
   ]
  },
  {
   "cell_type": "code",
   "execution_count": null,
   "id": "5f6845a7",
   "metadata": {},
   "outputs": [],
   "source": [
    "def calculate():\n",
    "    year = 2019\n",
    "    gdp = 10276\n",
    "    while():\n",
    "        \n",
    "    \n",
    "print(calculate())"
   ]
  },
  {
   "cell_type": "markdown",
   "id": "a27d073c",
   "metadata": {},
   "source": [
    "## 课件 ##\n",
    "\n",
    "课件下载：{download}`Loops II <LoopsII.pptx>`"
   ]
  }
 ],
 "metadata": {
  "jupytext": {
   "formats": "md:myst",
   "text_representation": {
    "extension": ".md",
    "format_name": "myst"
   }
  },
  "kernelspec": {
   "display_name": "Python 3",
   "language": "python",
   "name": "python3"
  },
  "rise": {
   "start_slideshow_at": "beginning"
  },
  "source_map": [
   14,
   21,
   31,
   41,
   49,
   54,
   63,
   69,
   75,
   83,
   91
  ]
 },
 "nbformat": 4,
 "nbformat_minor": 5
}