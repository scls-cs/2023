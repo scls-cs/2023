{
 "cells": [
  {
   "cell_type": "markdown",
   "id": "286a2457",
   "metadata": {},
   "source": [
    "# 游戏设计 #\n",
    "\n",
    "Pygame是一个专门用来开发游戏的 Python 模块，主要为开发、设计2D电子游戏而生，它是一个免费、开源的第三方软件包，支持多种操作系统，具有良好的跨平台性（比如 Windows、Linux、Mac 等）。\n",
    "\n",
    "## 帧（frame) ##\n",
    "\n",
    "游戏的核心是循环（game loop)。这个循环不断运行，一遍又一遍的地完成所有让游戏运行所需的操作。游戏的一次循环称为一帧。\n",
    "\n",
    "在每一帧中可能发生很多事情，但它们可以分为三个不同类别：\n",
    "\n",
    "1. 处理输入（或事件）\n",
    "这些是游戏对用户行为做出的响应，可能是键盘按键、鼠标点击等。\n",
    "\n",
    "2. 更新游戏\n",
    "这是在每一帧里修改的所有内容。如果物体在空中，它的位置、速度会被重力影响；如果两个物体相撞，它们会爆炸。\n",
    "\n",
    "3. 渲染（或者绘制）\n",
    "我们需要在屏幕上绘制所有内容，包括背景、角色、菜单或玩家需要看到的任何其他内容。\n",
    "\n",
    "## 时钟 ##\n",
    "\n",
    "游戏循环的一个重要方面是控制循环的运行速度。在游戏中，我们将循环的速度称作FPS(Frame Per Second)，也就是每秒帧数。FPS表示每一秒钟的循环次数。\n",
    "\n",
    "FPS指标对游戏很重要，因为游戏运行太快或者太慢都不是一件好事。\n",
    "\n",
    "## 事件 ##\n",
    "\n",
    "每当玩家与你的游戏交互——点击按钮，拉出菜单，或者按下按键、滑动鼠标——操作系统就会生成一个事件。Pygame 定义了一个专门用来处理事件的结构，即事件队列，该结构遵循遵循队列“先到先处理”的基本原则，通过事件队列，我们可以有序的、逐一地处理用户的操作（触发事件）。下述表格列出了 Pygame 中常用的游戏事件：\n",
    "\n",
    "![img.png](img.png)\n",
    "\n",
    "* pygame.event.get(): 返回当前全部事件\n",
    "\n",
    "* for event in pygame.event.get(): 遍历全部事件\n",
    "\n",
    "* event.type: 事件类型\n",
    "\n",
    "## 开始构建一个PyGame模版 ##\n",
    "\n",
    "现在我们知道了游戏的一些关键信息，我们可以开始编写一个最简单的游戏。这个游戏只包含一个游戏窗口。\n",
    "\n",
    "首先声明游戏变量WIDTH和HEIGHT，代表游戏窗口的大小。"
   ]
  },
  {
   "cell_type": "code",
   "execution_count": null,
   "id": "bd5d8c83",
   "metadata": {},
   "outputs": [],
   "source": [
    "import pygame\n",
    "\n",
    "WIDTH = 400  # 游戏窗口的宽度\n",
    "HEIGHT = 400 # 游戏窗口的高度\n",
    "FPS = 30     # 每秒帧数"
   ]
  },
  {
   "cell_type": "markdown",
   "id": "e03108cf",
   "metadata": {},
   "source": [
    "接下来初始化游戏窗口:"
   ]
  },
  {
   "cell_type": "code",
   "execution_count": null,
   "id": "c8b2ff2d",
   "metadata": {},
   "outputs": [],
   "source": [
    "# 初始化pygame并创建窗口\n",
    "pygame.init()\n",
    "screen = pygame.display.set_mode((WIDTH, HEIGHT))\n",
    "pygame.display.set_caption(\"My Game\")\n",
    "clock = pygame.time.Clock()"
   ]
  },
  {
   "cell_type": "markdown",
   "id": "d90692e1",
   "metadata": {},
   "source": [
    "游戏循环：每一轮循环都要经历响应事件 -> 更新游戏状态 -> 渲染屏幕三个过程。"
   ]
  },
  {
   "cell_type": "code",
   "execution_count": null,
   "id": "1c498b3d",
   "metadata": {},
   "outputs": [],
   "source": [
    "while running:\n",
    "  clock.tick(FPS)\n",
    "  for event in pygame.event.get():\n",
    "    if event.type == pygame.QUIT:\n",
    "       running = False\n",
    "\n",
    "  screen.fill((255, 255, 255))\n",
    "\n",
    "  pygame.display.flip()\n",
    "\n",
    "pygame.quit()"
   ]
  },
  {
   "cell_type": "markdown",
   "id": "bfabd8c0",
   "metadata": {},
   "source": [
    "Ex1：创建400x400的白色窗口\n",
    "\n",
    "https://replit.com/@scls-cs/Game0"
   ]
  },
  {
   "cell_type": "code",
   "execution_count": null,
   "id": "8b48ef95",
   "metadata": {},
   "outputs": [],
   "source": [
    "import pygame\n",
    "pygame.init()\n",
    "\n",
    "width = 400\n",
    "height = 400    \n",
    "             \n",
    "screen = pygame.display.set_mode((width, height))\n",
    "\n",
    "pygame.display.set_caption(\"window title\")\n",
    "\n",
    "clock = pygame.time.Clock()\n",
    "FPS = 30\n",
    "\n",
    "running = True\n",
    "while running:\n",
    "  clock.tick(FPS)\n",
    "  for event in pygame.event.get():\n",
    "    if event.type == pygame.QUIT:\n",
    "       running = False\n",
    "\n",
    "  screen.fill((255, 255, 255))\n",
    "\n",
    "  pygame.display.flip()"
   ]
  },
  {
   "cell_type": "markdown",
   "id": "b38f8fe1",
   "metadata": {},
   "source": [
    "Ex2：按下鼠标使窗口闪烁\n",
    "\n",
    "https://replit.com/@scls-cs/Game1"
   ]
  },
  {
   "cell_type": "code",
   "execution_count": null,
   "id": "2fc2c2ae",
   "metadata": {},
   "outputs": [],
   "source": [
    "import pygame\n",
    "\n",
    "pygame.init()\n",
    "\n",
    "width = 400\n",
    "height = 400    \n",
    "             \n",
    "screen = pygame.display.set_mode((width, height))\n",
    "\n",
    "pygame.display.set_caption(\"window title\")\n",
    "\n",
    "clock = pygame.time.Clock()\n",
    "FPS = 30\n",
    "count = 0\n",
    "\n",
    "running = True\n",
    "while running:\n",
    "  clock.tick(FPS)\n",
    "  for event in pygame.event.get():\n",
    "    if event.type == pygame.QUIT:\n",
    "       running = False\n",
    "    if event.type == pygame.MOUSEBUTTONDOWN:\n",
    "      count += 1\n",
    "  if(count%2 == 0):\n",
    "    screen.fill((255, 255, 255))\n",
    "  else:\n",
    "    screen.fill((0, 0, 0))\n",
    "  pygame.display.flip()"
   ]
  },
  {
   "cell_type": "markdown",
   "id": "8ecca795",
   "metadata": {},
   "source": [
    "Ex3：通过移动鼠标改变屏幕颜色\n",
    "\n",
    "https://replit.com/@scls-cs/Game2"
   ]
  },
  {
   "cell_type": "code",
   "execution_count": null,
   "id": "8dacbcc4",
   "metadata": {},
   "outputs": [],
   "source": [
    "import pygame\n",
    "\n",
    "pygame.init()\n",
    "\n",
    "width = 200\n",
    "height = 200    \n",
    "             \n",
    "screen = pygame.display.set_mode((width, height))\n",
    "\n",
    "pygame.display.set_caption(\"window title\")\n",
    "\n",
    "clock = pygame.time.Clock()\n",
    "FPS = 30\n",
    "\n",
    "running = True\n",
    "while running:\n",
    "  clock.tick(FPS)\n",
    "  for event in pygame.event.get():\n",
    "    if event.type == pygame.QUIT:\n",
    "      running = False\n",
    "    if event.type == pygame.MOUSEMOTION:\n",
    "      x,y = pygame.mouse.get_pos()   #返回鼠标的坐标(x,y)\n",
    "      screen.fill((x, y, 255))\n",
    "  pygame.display.flip()"
   ]
  },
  {
   "cell_type": "markdown",
   "id": "88ebc1a2",
   "metadata": {},
   "source": [
    "## 作业 ##\n",
    "[HW](hw1.md)"
   ]
  }
 ],
 "metadata": {
  "jupytext": {
   "formats": "md:myst",
   "text_representation": {
    "extension": ".md",
    "format_name": "myst"
   }
  },
  "kernelspec": {
   "display_name": "Python 3",
   "language": "python",
   "name": "python3"
  },
  "rise": {
   "start_slideshow_at": "beginning"
  },
  "source_map": [
   14,
   59,
   65,
   69,
   75,
   79,
   91,
   97,
   122,
   128,
   158,
   164,
   190
  ]
 },
 "nbformat": 4,
 "nbformat_minor": 5
}