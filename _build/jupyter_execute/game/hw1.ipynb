{
 "cells": [
  {
   "cell_type": "markdown",
   "id": "de369ad5",
   "metadata": {},
   "source": [
    "## 作业 ##\n",
    "\n",
    "1. 完成Ex1, Ex2, Ex3，回答下面问题：\n",
    "\n",
    "a. Ex1中，负责设置窗口标题和窗口颜色的代码分别是哪条？如果想要将窗口颜色设置为红色，应该如何修改代码？\n",
    "\n",
    "b. Ex2中是怎么监测到按下鼠标按键这个事件的？请指出相应代码。\n",
    "\n",
    "c. Ex3中是如何监测鼠标移动的？请指出相应代码。\n",
    "\n",
    "d. 将Ex3的FPS设置为1，重新运行代码后观察运行结果。描述区别并解释原因。\n",
    "\n",
    "e. 如果将Ex3中的width和height设置为400和400，程序运行可能会报错。请说明原因。\n",
    "\n",
    "2. 如果鼠标碰到窗口边缘，则游戏退出。你可以在Ex3代码上进行修改。\n",
    "\n",
    "3. 运行https://replit.com/@scls-cs/Circle0代码，窗口会出现一个红色小球。请指出显示小球的代码，查阅资料说明四个参数分别代表什么。\n",
    "\n",
    "4. 在Circle0基础上修改代码，使得红色小球可以向右移动，碰到窗口的右侧边界游戏结束。\n",
    "\n",
    "![move.png](move.gif)\n",
    "\n",
    "6."
   ]
  }
 ],
 "metadata": {
  "jupytext": {
   "formats": "md:myst",
   "text_representation": {
    "extension": ".md",
    "format_name": "myst"
   }
  },
  "kernelspec": {
   "display_name": "Python 3",
   "language": "python",
   "name": "python3"
  },
  "language_info": {
   "codemirror_mode": {
    "name": "ipython",
    "version": 3
   },
   "file_extension": ".py",
   "mimetype": "text/x-python",
   "name": "python",
   "nbconvert_exporter": "python",
   "pygments_lexer": "ipython3",
   "version": "3.9.2"
  },
  "rise": {
   "start_slideshow_at": "beginning"
  },
  "source_map": [
   14
  ]
 },
 "nbformat": 4,
 "nbformat_minor": 5
}