{
 "cells": [
  {
   "cell_type": "code",
   "execution_count": 1,
   "id": "e8b77210",
   "metadata": {},
   "outputs": [
    {
     "name": "stdout",
     "output_type": "stream",
     "text": [
      "The numbers are greater than 0\n",
      "At least one number is not greater than 0\n"
     ]
    }
   ],
   "source": [
    "a = 10\n",
    "b = 10\n",
    "c = -10\n",
    "\n",
    "if a > 0 and b > 0:\n",
    "    print(\"The numbers are greater than 0\")\n",
    "\n",
    "if a > 0 and b > 0 and c > 0:\n",
    "    print(\"The numbers are greater than 0\")\n",
    "else:\n",
    "    print(\"At least one number is not greater than 0\")\n",
    "\n",
    "#output: \"The numbers are greater than 0\"\n",
    "# \"At least one number is not greater than 0\""
   ]
  },
  {
   "cell_type": "code",
   "execution_count": 2,
   "id": "3a0af87a",
   "metadata": {},
   "outputs": [
    {
     "name": "stdout",
     "output_type": "stream",
     "text": [
      "Either of the number is greater than 0\n",
      "No number is greater than 0\n"
     ]
    }
   ],
   "source": [
    "a = 10\n",
    "b = -10\n",
    "c = 0\n",
    "\n",
    "if a > 0 or b > 0:\n",
    "    print(\"Either of the number is greater than 0\")\n",
    "else:\n",
    "    print(\"No number is greater than 0\")\n",
    "\n",
    "if b > 0 or c > 0:\n",
    "    print(\"Either of the number is greater than 0\")\n",
    "else:\n",
    "    print(\"No number is greater than 0\")\n",
    "\n",
    "\n",
    "  #output: \"Either of the number is greater than 0\"\n",
    "  # \"No number is greater than 0\""
   ]
  },
  {
   "cell_type": "code",
   "execution_count": 3,
   "id": "3da32879",
   "metadata": {},
   "outputs": [
    {
     "name": "stdout",
     "output_type": "stream",
     "text": [
      "x is outside\n"
     ]
    }
   ],
   "source": [
    "x = 50\n",
    "\n",
    "if not (x>10):\n",
    "    print(\"x is no greater than 10\")\n",
    "\n",
    "if not (20 <= x < 40):\n",
    "    print(\"x is outside\")"
   ]
  },
  {
   "cell_type": "code",
   "execution_count": 4,
   "id": "5500e08c",
   "metadata": {},
   "outputs": [],
   "source": [
    "def leapYear(year):\n",
    "    if(year<1582):\n",
    "        return year%4==0\n",
    "    else:\n",
    "        return (year%400==0) or (year%100!=0 and year%4==0)"
   ]
  }
 ],
 "metadata": {
  "jupytext": {
   "formats": "md:myst",
   "text_representation": {
    "extension": ".md",
    "format_name": "myst"
   }
  },
  "kernelspec": {
   "display_name": "Python 3",
   "language": "python",
   "name": "python3"
  },
  "language_info": {
   "codemirror_mode": {
    "name": "ipython",
    "version": 3
   },
   "file_extension": ".py",
   "mimetype": "text/x-python",
   "name": "python",
   "nbconvert_exporter": "python",
   "pygments_lexer": "ipython3",
   "version": "3.9.2"
  },
  "rise": {
   "start_slideshow_at": "beginning"
  },
  "source_map": [
   14,
   104,
   121,
   141,
   150
  ]
 },
 "nbformat": 4,
 "nbformat_minor": 5
}