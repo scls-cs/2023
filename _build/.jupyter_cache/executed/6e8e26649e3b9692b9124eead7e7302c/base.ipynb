{
 "cells": [
  {
   "cell_type": "code",
   "execution_count": 1,
   "id": "6b21fb41",
   "metadata": {},
   "outputs": [
    {
     "name": "stdout",
     "output_type": "stream",
     "text": [
      "C\n"
     ]
    }
   ],
   "source": [
    "grade = 75\n",
    "if(grade >= 90):\n",
    "    print(\"A\")\n",
    "elif(grade >= 80):\n",
    "    print(\"B\")\n",
    "elif(grade >= 70):\n",
    "    print(\"C\")\n",
    "elif(grade >= 60):\n",
    "    print(\"D\")\n",
    "else:\n",
    "    print(\"Class Failed!\")"
   ]
  },
  {
   "cell_type": "code",
   "execution_count": 2,
   "id": "5085743c",
   "metadata": {},
   "outputs": [
    {
     "name": "stdout",
     "output_type": "stream",
     "text": [
      "C\n",
      "D\n"
     ]
    }
   ],
   "source": [
    "if(grade >= 90):\n",
    "    print(\"A\")\n",
    "if(grade >= 80):\n",
    "    print(\"B\")\n",
    "if(grade >=70):\n",
    "    print(\"C\")\n",
    "if(grade >= 60):\n",
    "    print(\"D\")"
   ]
  },
  {
   "cell_type": "code",
   "execution_count": 3,
   "id": "3dd41f67",
   "metadata": {},
   "outputs": [],
   "source": [
    "def checkBMI(bmi):\n",
    "  if(bmi < 18.5):\n",
    "      print(\"Too thin\")\n",
    "  else:\n",
    "      if(bmi < 25):\n",
    "          print(\"Fit\")\n",
    "      elif(bmi < 30):\n",
    "          print(\"Overweight\")\n",
    "      elif(bmi < 40):\n",
    "          print(\"Obesity\")\n",
    "      else:\n",
    "          print(\"Go to see a doctor right now.\")"
   ]
  },
  {
   "cell_type": "code",
   "execution_count": 4,
   "id": "4b625337",
   "metadata": {},
   "outputs": [
    {
     "name": "stdout",
     "output_type": "stream",
     "text": [
      "96.0\n",
      "0\n",
      "0\n"
     ]
    }
   ],
   "source": [
    "def getBill(degrees):\n",
    "    cost = 0\n",
    "    if(degrees <= 240):\n",
    "        cost = degrees*0.48\n",
    "    #add code here\n",
    "    \n",
    "    return cost\n",
    "\n",
    "\n",
    "print(getBill(200)) #96.0\n",
    "print(getBill(350)) #174.6 \n",
    "print(getBill(500)) #280.6"
   ]
  },
  {
   "cell_type": "code",
   "execution_count": 5,
   "id": "fda788ed",
   "metadata": {},
   "outputs": [
    {
     "name": "stdout",
     "output_type": "stream",
     "text": [
      "True\n",
      "True\n",
      "True\n"
     ]
    }
   ],
   "source": [
    "def answerCell(isMorning, isMom, isAsleep):\n",
    "   #add code here\n",
    "   return True\n",
    "\n",
    "\n",
    "print(answerCell(False, False, False)) # True\n",
    "print(answerCell(False, False, True)) # False\n",
    "print(answerCell(True, False, False)) # False"
   ]
  }
 ],
 "metadata": {
  "jupytext": {
   "formats": "md:myst",
   "text_representation": {
    "extension": ".md",
    "format_name": "myst"
   }
  },
  "kernelspec": {
   "display_name": "Python 3",
   "language": "python",
   "name": "python3"
  },
  "language_info": {
   "codemirror_mode": {
    "name": "ipython",
    "version": 3
   },
   "file_extension": ".py",
   "mimetype": "text/x-python",
   "name": "python",
   "nbconvert_exporter": "python",
   "pygments_lexer": "ipython3",
   "version": "3.9.2"
  },
  "rise": {
   "start_slideshow_at": "beginning"
  },
  "source_map": [
   14,
   61,
   73,
   81,
   90,
   104,
   117,
   165,
   178,
   187
  ]
 },
 "nbformat": 4,
 "nbformat_minor": 5
}