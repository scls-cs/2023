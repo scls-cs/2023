{
 "cells": [
  {
   "cell_type": "code",
   "execution_count": 1,
   "id": "e053b29e",
   "metadata": {},
   "outputs": [
    {
     "name": "stdout",
     "output_type": "stream",
     "text": [
      "C\n"
     ]
    }
   ],
   "source": [
    "grade = 75\n",
    "if(grade >= 90):\n",
    "    print(\"A\")\n",
    "elif(grade >= 80):\n",
    "    print(\"B\")\n",
    "elif(grade >= 70):\n",
    "    print(\"C\")\n",
    "elif(grade >= 60):\n",
    "    print(\"D\")\n",
    "else:\n",
    "    print(\"Class Failed!\")"
   ]
  },
  {
   "cell_type": "code",
   "execution_count": 2,
   "id": "a0ac1e28",
   "metadata": {},
   "outputs": [
    {
     "name": "stdout",
     "output_type": "stream",
     "text": [
      "C\n",
      "D\n"
     ]
    }
   ],
   "source": [
    "if(grade >= 90):\n",
    "    print(\"A\")\n",
    "if(grade >= 80):\n",
    "    print(\"B\")\n",
    "if(grade >=70):\n",
    "    print(\"C\")\n",
    "if(grade >= 60):\n",
    "    print(\"D\")"
   ]
  },
  {
   "cell_type": "code",
   "execution_count": 3,
   "id": "646b40de",
   "metadata": {},
   "outputs": [],
   "source": [
    "def checkBMI(bmi):\n",
    "  if(bmi < 18.5):\n",
    "      print(\"Too thin\")\n",
    "  else:\n",
    "      if(bmi < 25):\n",
    "          print(\"Fit\")\n",
    "      elif(bmi < 30):\n",
    "          print(\"Overweight\")\n",
    "      elif(bmi < 40):\n",
    "          print(\"Obesity\")\n",
    "      else:\n",
    "          print(\"Go to see a doctor right now.\")"
   ]
  }
 ],
 "metadata": {
  "jupytext": {
   "formats": "md:myst",
   "text_representation": {
    "extension": ".md",
    "format_name": "myst"
   }
  },
  "kernelspec": {
   "display_name": "Python 3",
   "language": "python",
   "name": "python3"
  },
  "language_info": {
   "codemirror_mode": {
    "name": "ipython",
    "version": 3
   },
   "file_extension": ".py",
   "mimetype": "text/x-python",
   "name": "python",
   "nbconvert_exporter": "python",
   "pygments_lexer": "ipython3",
   "version": "3.9.2"
  },
  "rise": {
   "start_slideshow_at": "beginning"
  },
  "source_map": [
   14,
   45,
   57,
   65,
   74,
   89,
   102
  ]
 },
 "nbformat": 4,
 "nbformat_minor": 5
}