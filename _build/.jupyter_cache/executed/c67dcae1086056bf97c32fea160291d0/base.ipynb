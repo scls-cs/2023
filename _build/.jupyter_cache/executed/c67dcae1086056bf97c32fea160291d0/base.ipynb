{
 "cells": [
  {
   "cell_type": "code",
   "execution_count": 1,
   "id": "cefc1415",
   "metadata": {},
   "outputs": [
    {
     "name": "stdout",
     "output_type": "stream",
     "text": [
      "0\n",
      "1\n",
      "2\n",
      "3\n",
      "4\n",
      "5\n",
      "6\n",
      "7\n",
      "8\n",
      "9\n"
     ]
    }
   ],
   "source": [
    "count = 0                #1.循环变量初始化\n",
    "\n",
    "while(count < 10):       #2.循环条件\n",
    "    print(count)         #3.循环体\n",
    "    count = count + 1    #4.更新循环变量"
   ]
  },
  {
   "cell_type": "code",
   "execution_count": 2,
   "id": "785485df",
   "metadata": {},
   "outputs": [
    {
     "name": "stdout",
     "output_type": "stream",
     "text": [
      "10\n"
     ]
    }
   ],
   "source": [
    "def star(n):\n",
    "  print(n)\n",
    "\n",
    "star(10) # 1 2 3 4 ... 8 9 10(每行打印一个数）"
   ]
  },
  {
   "cell_type": "code",
   "execution_count": 3,
   "id": "47975873",
   "metadata": {},
   "outputs": [
    {
     "name": "stdout",
     "output_type": "stream",
     "text": [
      "1\n",
      "1\n"
     ]
    }
   ],
   "source": [
    "def f(a,b):\n",
    "  total = 1\n",
    "  #add your code here\n",
    "  \n",
    "  \n",
    "  \n",
    "  return total\n",
    "\n",
    "print(f(2,3))   #8\n",
    "print(f(3,4))   #81"
   ]
  }
 ],
 "metadata": {
  "jupytext": {
   "formats": "md:myst",
   "text_representation": {
    "extension": ".md",
    "format_name": "myst"
   }
  },
  "kernelspec": {
   "display_name": "Python 3",
   "language": "python",
   "name": "python3"
  },
  "language_info": {
   "codemirror_mode": {
    "name": "ipython",
    "version": 3
   },
   "file_extension": ".py",
   "mimetype": "text/x-python",
   "name": "python",
   "nbconvert_exporter": "python",
   "pygments_lexer": "ipython3",
   "version": "3.9.2"
  },
  "rise": {
   "start_slideshow_at": "beginning"
  },
  "source_map": [
   14,
   52,
   58,
   99,
   104,
   109,
   120
  ]
 },
 "nbformat": 4,
 "nbformat_minor": 5
}