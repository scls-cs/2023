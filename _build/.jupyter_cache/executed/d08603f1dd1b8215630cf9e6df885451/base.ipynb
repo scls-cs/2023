{
 "cells": [
  {
   "cell_type": "code",
   "execution_count": 1,
   "id": "9fbc02f4",
   "metadata": {},
   "outputs": [
    {
     "name": "stdout",
     "output_type": "stream",
     "text": [
      "The numbers are greater than 0\n",
      "At least one number is not greater than 0\n"
     ]
    }
   ],
   "source": [
    "a = 10\n",
    "b = 10\n",
    "c = -10\n",
    "\n",
    "if a > 0 and b > 0:\n",
    "    print(\"The numbers are greater than 0\")\n",
    "\n",
    "if a > 0 and b > 0 and c > 0:\n",
    "    print(\"The numbers are greater than 0\")\n",
    "else:\n",
    "    print(\"At least one number is not greater than 0\")\n",
    "\n",
    "#output: \"The numbers are greater than 0\"\n",
    "# \"At least one number is not greater than 0\""
   ]
  },
  {
   "cell_type": "code",
   "execution_count": 2,
   "id": "81873d00",
   "metadata": {},
   "outputs": [
    {
     "name": "stdout",
     "output_type": "stream",
     "text": [
      "Either of the number is greater than 0\n",
      "No number is greater than 0\n"
     ]
    }
   ],
   "source": [
    "a = 10\n",
    "b = -10\n",
    "c = 0\n",
    "\n",
    "if a > 0 or b > 0:\n",
    "    print(\"Either of the number is greater than 0\")\n",
    "else:\n",
    "    print(\"No number is greater than 0\")\n",
    "\n",
    "if b > 0 or c > 0:\n",
    "    print(\"Either of the number is greater than 0\")\n",
    "else:\n",
    "    print(\"No number is greater than 0\")\n",
    "\n",
    "\n",
    "  #output: \"Either of the number is greater than 0\"\n",
    "  # \"No number is greater than 0\""
   ]
  }
 ],
 "metadata": {
  "jupytext": {
   "formats": "md:myst",
   "text_representation": {
    "extension": ".md",
    "format_name": "myst"
   }
  },
  "kernelspec": {
   "display_name": "Python 3",
   "language": "python",
   "name": "python3"
  },
  "language_info": {
   "codemirror_mode": {
    "name": "ipython",
    "version": 3
   },
   "file_extension": ".py",
   "mimetype": "text/x-python",
   "name": "python",
   "nbconvert_exporter": "python",
   "pygments_lexer": "ipython3",
   "version": "3.9.2"
  },
  "rise": {
   "start_slideshow_at": "beginning"
  },
  "source_map": [
   14,
   104,
   121
  ]
 },
 "nbformat": 4,
 "nbformat_minor": 5
}