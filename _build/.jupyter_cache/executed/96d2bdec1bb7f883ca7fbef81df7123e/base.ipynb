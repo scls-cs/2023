{
 "cells": [
  {
   "cell_type": "code",
   "execution_count": 1,
   "id": "c1b4e96e",
   "metadata": {},
   "outputs": [
    {
     "name": "stdout",
     "output_type": "stream",
     "text": [
      "4\n",
      "0.916020519064816\n"
     ]
    }
   ],
   "source": [
    "import random\n",
    "\n",
    "print( random.randint(1,10) )        # 产生 1 到 10（包含）的一个整数型随机数  \n",
    "print( random.random() )             # 产生 0 到 1 之间的随机浮点数\n"
   ]
  },
  {
   "cell_type": "code",
   "execution_count": 2,
   "id": "3ae9353c",
   "metadata": {},
   "outputs": [],
   "source": [
    "import random\n",
    "\n",
    "i=0\n",
    "while(i<5):   #change the number 5 to the actual tries\n",
    "  #add code here\n",
    "    \n",
    "    \n",
    "  i=i+1 #do not change this line\n",
    "    "
   ]
  }
 ],
 "metadata": {
  "jupytext": {
   "formats": "md:myst",
   "text_representation": {
    "extension": ".md",
    "format_name": "myst"
   }
  },
  "kernelspec": {
   "display_name": "Python 3",
   "language": "python",
   "name": "python3"
  },
  "language_info": {
   "codemirror_mode": {
    "name": "ipython",
    "version": 3
   },
   "file_extension": ".py",
   "mimetype": "text/x-python",
   "name": "python",
   "nbconvert_exporter": "python",
   "pygments_lexer": "ipython3",
   "version": "3.9.2"
  },
  "rise": {
   "start_slideshow_at": "beginning"
  },
  "source_map": [
   14,
   23,
   30,
   120
  ]
 },
 "nbformat": 4,
 "nbformat_minor": 5
}